{
 "cells": [
  {
   "cell_type": "code",
   "execution_count": 255,
   "id": "85d149dd-ede6-4da1-9935-ecb9deda123b",
   "metadata": {},
   "outputs": [
    {
     "name": "stdout",
     "output_type": "stream",
     "text": [
      "(2459, 3) (1138, 3) (569, 3)\n"
     ]
    }
   ],
   "source": [
    "import pandas as pd\n",
    "nouns = pd.read_excel(\"./datasets/core words completed.xlsx\", 0 )\n",
    "verbs = pd.read_excel(\"./datasets/core words completed.xlsx\", 2)\n",
    "adj = pd.read_excel(\"./datasets/core words completed.xlsx\", 1 )\n",
    "rankings = pd.read_csv(\"./datasets/rankedvocab.csv\")\n",
    "\n",
    "nouns[\"POS1\"] = \"n\"\n",
    "nouns.head()\n",
    "\n",
    "verbs.head()\n",
    "verbs.columns = [\"Finnish\",\"English\"]\n",
    "verbs[\"POS1\"] = \"v\"\n",
    "\n",
    "adj.head()\n",
    "adj[\"POS1\"] = \"j\"\n",
    "adj[\"English\"] = adj[\"English\"].astype(\"string\")\n",
    "\n",
    "print(\n",
    "    nouns.shape,\n",
    "    verbs.shape,\n",
    "    adj.shape)\n",
    "\n"
   ]
  },
  {
   "cell_type": "code",
   "execution_count": 256,
   "id": "458f71d8-93c4-41ec-83f1-12753b151077",
   "metadata": {},
   "outputs": [],
   "source": [
    "# sort data \n",
    "verbs = verbs.sort_values(by = 'English')\n",
    "nouns = nouns.sort_values(by = 'English')\n",
    "adj = adj.sort_values(by = 'English')\n",
    "\n",
    "verbs.reset_index(inplace=True, drop=True)\n",
    "nouns.reset_index(inplace=True, drop=True)\n",
    "adj.reset_index(inplace=True, drop=True)"
   ]
  },
  {
   "cell_type": "code",
   "execution_count": 257,
   "id": "07f4403a-3c65-4b9e-b86f-17d3f00e0863",
   "metadata": {},
   "outputs": [
    {
     "data": {
      "text/html": [
       "<div>\n",
       "<style scoped>\n",
       "    .dataframe tbody tr th:only-of-type {\n",
       "        vertical-align: middle;\n",
       "    }\n",
       "\n",
       "    .dataframe tbody tr th {\n",
       "        vertical-align: top;\n",
       "    }\n",
       "\n",
       "    .dataframe thead th {\n",
       "        text-align: right;\n",
       "    }\n",
       "</style>\n",
       "<table border=\"1\" class=\"dataframe\">\n",
       "  <thead>\n",
       "    <tr style=\"text-align: right;\">\n",
       "      <th></th>\n",
       "      <th>Finnish</th>\n",
       "      <th>English</th>\n",
       "      <th>POS1</th>\n",
       "    </tr>\n",
       "  </thead>\n",
       "  <tbody>\n",
       "    <tr>\n",
       "      <th>0</th>\n",
       "      <td>opetella</td>\n",
       "      <td>Learn</td>\n",
       "      <td>v</td>\n",
       "    </tr>\n",
       "    <tr>\n",
       "      <th>1</th>\n",
       "      <td>mokailla</td>\n",
       "      <td>Make embarrassing mistakes</td>\n",
       "      <td>v</td>\n",
       "    </tr>\n",
       "    <tr>\n",
       "      <th>2</th>\n",
       "      <td>soida</td>\n",
       "      <td>Make/play a sound</td>\n",
       "      <td>v</td>\n",
       "    </tr>\n",
       "    <tr>\n",
       "      <th>3</th>\n",
       "      <td>haista</td>\n",
       "      <td>Smell bad</td>\n",
       "      <td>v</td>\n",
       "    </tr>\n",
       "    <tr>\n",
       "      <th>4</th>\n",
       "      <td>murentua</td>\n",
       "      <td>To crumble</td>\n",
       "      <td>v</td>\n",
       "    </tr>\n",
       "  </tbody>\n",
       "</table>\n",
       "</div>"
      ],
      "text/plain": [
       "    Finnish                     English POS1\n",
       "0  opetella                       Learn    v\n",
       "1  mokailla  Make embarrassing mistakes    v\n",
       "2     soida           Make/play a sound    v\n",
       "3    haista                   Smell bad    v\n",
       "4  murentua                  To crumble    v"
      ]
     },
     "execution_count": 257,
     "metadata": {},
     "output_type": "execute_result"
    }
   ],
   "source": [
    "verbs.head()"
   ]
  },
  {
   "cell_type": "code",
   "execution_count": 258,
   "id": "4b398315-46ac-4793-bb41-6306cd07353a",
   "metadata": {},
   "outputs": [],
   "source": [
    "def make_set(start,end,set_name, datasource):\n",
    "    json_extract = f'\"{set_name}\":{{\\n'\n",
    "    last_val = ''\n",
    "    last_entry = ''\n",
    "    for index, row in datasource[start:end].iterrows():\n",
    "        # print(last_val)\n",
    "        try:\n",
    "            if last_val == row['English']:\n",
    "                # print(f\"found a duplicate of {row['English']}\" )\n",
    "                # print(last_val, row[\"English\"])\n",
    "                 # Modify last_entry to include both values\n",
    "                json_extract = json_extract.rstrip('\", \\n')  # Remove the trailing comma and space\n",
    "                json_extract += f', {row[\"Finnish\"]}\", \\n'  # Add the Finnish value from the duplicate \n",
    "                \n",
    "                if index-start < end-start-1:\n",
    "                    new_entry+= \", \\n\"\n",
    "                    # remember previous entry for nest round\n",
    "                    last_val = row['English']\n",
    "                else:\n",
    "                    new_entry+=\"\\n\"\n",
    "                    # clear memory for next stage start\n",
    "                    last_val = ''\n",
    "            else:\n",
    "                new_entry = f'''\\t\"{row['English']}\":\"{row['Finnish']}\"'''\n",
    "                \n",
    "                if index-start < end-start-1:\n",
    "                    new_entry+= \", \\n\"\n",
    "                    # remember previous entry for nest round\n",
    "                    last_val = row['English']\n",
    "                else:\n",
    "                    new_entry+=\"\\n\"\n",
    "                    # clear memory for next stage start\n",
    "                    last_val = ''\n",
    "                    \n",
    "                json_extract += new_entry\n",
    "        except:\n",
    "            print(\"No data found ... looks like the end of the data\")\n",
    "    json_extract+=\"\\t}, \\n\"\n",
    "   \n",
    "    return json_extract"
   ]
  },
  {
   "cell_type": "code",
   "execution_count": 259,
   "id": "d4ac78ea-9123-48d2-916b-90a6245e8ec2",
   "metadata": {},
   "outputs": [
    {
     "name": "stdout",
     "output_type": "stream",
     "text": [
      "\"word_set0\":{\n",
      "\t\"Learn\":\"opetella\", \n",
      "\t\"Make embarrassing mistakes\":\"mokailla\", \n",
      "\t\"Make/play a sound\":\"soida\", \n",
      "\t\"Smell bad\":\"haista\", \n",
      "\t\"To crumble\":\"murentua\"\n",
      "\t}, \n",
      "\n",
      "\"word_set1\":{\n",
      "\t\"abandon\":\"luopua\", \n",
      "\t\"abort\":\"abortoida\", \n",
      "\t\"accept\":\"hyväksyä\", \n",
      "\t\"accomplish\":\"saada aikaan\", \n",
      "\t\"accuse\":\"syyllistää\"\n",
      "\t}, \n",
      "\n",
      "\"word_set2\":{\n",
      "\t\"acquire\":\"hankkia\", \n",
      "\t\"act\":\"näytellä\", \n",
      "\t\"activate\":\"aktivoida\", \n",
      "\t\"add\":\"lisätä\", \n",
      "\t\"address\":\"tituloida\"\n",
      "\t}, \n",
      "\n",
      "\"word_set3\":{\n",
      "\t\"adjust\":\"säätää\", \n",
      "\t\"admire\":\"ihastella\", \n",
      "\t\"adopt\":\"adoptoida\", \n",
      "\t\"adore\":\"ihailla\", \n",
      "\t\"adventure\":\"seikkailla\"\n",
      "\t}, \n",
      "\n"
     ]
    }
   ],
   "source": [
    "for i in range(0,20,5):\n",
    "    print(make_set(i,i+5,f\"word_set{int(i/5)}\",verbs))\n"
   ]
  },
  {
   "cell_type": "code",
   "execution_count": 269,
   "id": "27f6c6a0-8222-4fb2-bb4d-c6537bb7aff0",
   "metadata": {},
   "outputs": [],
   "source": [
    "\n",
    "\n",
    "with open(\"nouns.txt\", \"w\") as j:\n",
    "    for i in range(0,2500,100):\n",
    "        j.write(make_set(i,i+100,f\"word_set{int(i/100)}\",nouns))\n",
    "\n",
    "with open(\"verbs.txt\", \"w\") as j:\n",
    "    for i in range(0,1200,50):\n",
    "        j.write(make_set(i,i+50,f\"word_set{int(i/50)}\",verbs))\n",
    "\n",
    "with open(\"adjectives.txt\", \"w\") as j:\n",
    "    for i in range(0,600,50):\n",
    "        j.write(make_set(i,i+50,f\"word_set{int(i/50)}\",adj))\n"
   ]
  },
  {
   "cell_type": "code",
   "execution_count": null,
   "id": "2617a333-d553-473a-b1ab-ba666af9fd74",
   "metadata": {},
   "outputs": [],
   "source": []
  }
 ],
 "metadata": {
  "kernelspec": {
   "display_name": "Python 3 (ipykernel)",
   "language": "python",
   "name": "python3"
  },
  "language_info": {
   "codemirror_mode": {
    "name": "ipython",
    "version": 3
   },
   "file_extension": ".py",
   "mimetype": "text/x-python",
   "name": "python",
   "nbconvert_exporter": "python",
   "pygments_lexer": "ipython3",
   "version": "3.12.4"
  }
 },
 "nbformat": 4,
 "nbformat_minor": 5
}
