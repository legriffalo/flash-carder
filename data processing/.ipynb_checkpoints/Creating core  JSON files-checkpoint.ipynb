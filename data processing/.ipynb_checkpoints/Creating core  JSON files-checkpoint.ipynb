{
 "cells": [
  {
   "cell_type": "markdown",
   "id": "38a18647-dc7d-4445-be2f-4a2ef7ca23ef",
   "metadata": {},
   "source": [
    "target format is JSON\n",
    "{\n",
    "\"demoset\":{\"bottle\":\"pullo\",\"station\":\"asema\",\"shelf\":\"hylly\",\"bar\":\"baari\"},\n",
    "\"demoset2\":{\"bottle2\":\"pullo2\",\"station2\":\"asema2\",\"shelf2\":\"hylly2\",\"bar2\":\"baari2\"}\n",
    " }"
   ]
  },
  {
   "cell_type": "code",
   "execution_count": 160,
   "id": "f59b1b70-befb-4311-a2d8-f139c2375612",
   "metadata": {},
   "outputs": [],
   "source": [
    "import pandas as pd"
   ]
  },
  {
   "cell_type": "code",
   "execution_count": 262,
   "id": "1a9d9d97-cef7-4d0b-9516-1a93f4359e02",
   "metadata": {},
   "outputs": [],
   "source": [
    "nouns = pd.read_excel(\"./datasets/core words completed.xlsx\", 0 )\n",
    "verbs = pd.read_excel(\"./datasets/core words completed.xlsx\", 2)\n",
    "adj = pd.read_excel(\"./datasets/core words completed.xlsx\", 1 )\n",
    "rankings = pd.read_csv(\"./datasets/rankedvocab.csv\")"
   ]
  },
  {
   "cell_type": "code",
   "execution_count": 263,
   "id": "e5b92fce-23a2-46f2-ab0e-011e685ed362",
   "metadata": {},
   "outputs": [
    {
     "data": {
      "text/plain": [
       "(2459, 3)"
      ]
     },
     "execution_count": 263,
     "metadata": {},
     "output_type": "execute_result"
    }
   ],
   "source": [
    "nouns[\"POS1\"] = \"n\"\n",
    "nouns.head()\n",
    "nouns.shape"
   ]
  },
  {
   "cell_type": "code",
   "execution_count": 264,
   "id": "79a11176-e8b8-44bb-849b-e0c161f375c5",
   "metadata": {},
   "outputs": [
    {
     "data": {
      "text/plain": [
       "(1138, 3)"
      ]
     },
     "execution_count": 264,
     "metadata": {},
     "output_type": "execute_result"
    }
   ],
   "source": [
    "verbs.head()\n",
    "verbs.columns = [\"Finnish\",\"English\"]\n",
    "verbs[\"POS1\"] = \"v\"\n",
    "verbs.shape"
   ]
  },
  {
   "cell_type": "code",
   "execution_count": 265,
   "id": "80695791-e785-42f6-8b4a-d883dd785175",
   "metadata": {},
   "outputs": [
    {
     "data": {
      "text/plain": [
       "(569, 3)"
      ]
     },
     "execution_count": 265,
     "metadata": {},
     "output_type": "execute_result"
    }
   ],
   "source": [
    "adj.head()\n",
    "adj[\"POS1\"] = \"j\"\n",
    "adj.shape"
   ]
  },
  {
   "cell_type": "code",
   "execution_count": 270,
   "id": "cdfd4d18-f6f6-42ec-a88a-34538db51875",
   "metadata": {},
   "outputs": [
    {
     "data": {
      "text/plain": [
       "POS\n",
       "n       2688\n",
       "v       1042\n",
       "j        692\n",
       "r        214\n",
       "fw       167\n",
       "u         99\n",
       "m         84\n",
       "K         62\n",
       "abbr      14\n",
       "Name: count, dtype: int64"
      ]
     },
     "execution_count": 270,
     "metadata": {},
     "output_type": "execute_result"
    }
   ],
   "source": [
    "rankings.head()\n",
    "rankings[\"POS\"].value_counts()"
   ]
  },
  {
   "cell_type": "code",
   "execution_count": 282,
   "id": "56d7b5fd-1b11-4f51-a4e3-725982866253",
   "metadata": {},
   "outputs": [
    {
     "data": {
      "text/plain": [
       "(214, 8)"
      ]
     },
     "execution_count": 282,
     "metadata": {},
     "output_type": "execute_result"
    }
   ],
   "source": [
    "rankings[rankings[\"POS\"]==\"r\"].shape"
   ]
  },
  {
   "cell_type": "code",
   "execution_count": 274,
   "id": "ba6b330d-f51c-4ca4-ac50-2043a9bec123",
   "metadata": {},
   "outputs": [
    {
     "data": {
      "text/plain": [
       "(5063, 3)"
      ]
     },
     "execution_count": 274,
     "metadata": {},
     "output_type": "execute_result"
    }
   ],
   "source": [
    "rankingreduced = rankings[[\"word\",\"POS\",\"ranking\"]]\n",
    "# rankingreduced = rankings[[\"word\",\"ranking\"]]\n",
    "\n",
    "rankingreduced.head()\n",
    "rankingreduced.shape"
   ]
  },
  {
   "cell_type": "code",
   "execution_count": 310,
   "id": "d27e8925-fbec-441e-a414-c502225dc18c",
   "metadata": {},
   "outputs": [
    {
     "data": {
      "text/plain": [
       "(653, 6)"
      ]
     },
     "execution_count": 310,
     "metadata": {},
     "output_type": "execute_result"
    }
   ],
   "source": [
    "stage1 = pd.merge(rankingreduced, adj, left_on = \"word\", right_on= \"English\", how = \"right\", left_index = False, right_index = False)\n",
    "stage1.shape"
   ]
  },
  {
   "cell_type": "code",
   "execution_count": 286,
   "id": "68da3a71-5763-4438-ab92-2835ab9c0c18",
   "metadata": {},
   "outputs": [
    {
     "data": {
      "text/html": [
       "<div>\n",
       "<style scoped>\n",
       "    .dataframe tbody tr th:only-of-type {\n",
       "        vertical-align: middle;\n",
       "    }\n",
       "\n",
       "    .dataframe tbody tr th {\n",
       "        vertical-align: top;\n",
       "    }\n",
       "\n",
       "    .dataframe thead th {\n",
       "        text-align: right;\n",
       "    }\n",
       "</style>\n",
       "<table border=\"1\" class=\"dataframe\">\n",
       "  <thead>\n",
       "    <tr style=\"text-align: right;\">\n",
       "      <th></th>\n",
       "      <th>word</th>\n",
       "      <th>POS</th>\n",
       "      <th>ranking</th>\n",
       "      <th>Finnish</th>\n",
       "      <th>English</th>\n",
       "      <th>POS1</th>\n",
       "    </tr>\n",
       "  </thead>\n",
       "  <tbody>\n",
       "    <tr>\n",
       "      <th>0</th>\n",
       "      <td>able</td>\n",
       "      <td>j</td>\n",
       "      <td>609.0</td>\n",
       "      <td>kykenevä</td>\n",
       "      <td>able</td>\n",
       "      <td>j</td>\n",
       "    </tr>\n",
       "    <tr>\n",
       "      <th>1</th>\n",
       "      <td>above</td>\n",
       "      <td>fw</td>\n",
       "      <td>1555.0</td>\n",
       "      <td>ylinen</td>\n",
       "      <td>above</td>\n",
       "      <td>j</td>\n",
       "    </tr>\n",
       "    <tr>\n",
       "      <th>2</th>\n",
       "      <td>absolute</td>\n",
       "      <td>j</td>\n",
       "      <td>3511.0</td>\n",
       "      <td>absoluuttinen</td>\n",
       "      <td>absolute</td>\n",
       "      <td>j</td>\n",
       "    </tr>\n",
       "    <tr>\n",
       "      <th>3</th>\n",
       "      <td>absurd</td>\n",
       "      <td>j</td>\n",
       "      <td>4740.0</td>\n",
       "      <td>absurdi</td>\n",
       "      <td>absurd</td>\n",
       "      <td>j</td>\n",
       "    </tr>\n",
       "    <tr>\n",
       "      <th>4</th>\n",
       "      <td>acceptable</td>\n",
       "      <td>j</td>\n",
       "      <td>4477.0</td>\n",
       "      <td>hyväksyttävä</td>\n",
       "      <td>acceptable</td>\n",
       "      <td>j</td>\n",
       "    </tr>\n",
       "  </tbody>\n",
       "</table>\n",
       "</div>"
      ],
      "text/plain": [
       "         word POS  ranking        Finnish     English POS1\n",
       "0        able   j    609.0       kykenevä        able    j\n",
       "1       above  fw   1555.0         ylinen       above    j\n",
       "2    absolute   j   3511.0  absoluuttinen    absolute    j\n",
       "3      absurd   j   4740.0        absurdi      absurd    j\n",
       "4  acceptable   j   4477.0   hyväksyttävä  acceptable    j"
      ]
     },
     "execution_count": 286,
     "metadata": {},
     "output_type": "execute_result"
    }
   ],
   "source": [
    "stage1.head()"
   ]
  },
  {
   "cell_type": "code",
   "execution_count": 312,
   "id": "9006579e-0745-45ec-95eb-1c4590186666",
   "metadata": {},
   "outputs": [
    {
     "data": {
      "text/plain": [
       "(653, 6)"
      ]
     },
     "execution_count": 312,
     "metadata": {},
     "output_type": "execute_result"
    }
   ],
   "source": [
    "stage1[stage1[\"POS1\"]==\"j\"].shape"
   ]
  },
  {
   "cell_type": "code",
   "execution_count": 320,
   "id": "456cee0b-8b1f-4d06-8310-de3d80e1ca15",
   "metadata": {},
   "outputs": [
    {
     "data": {
      "text/plain": [
       "0"
      ]
     },
     "execution_count": 320,
     "metadata": {},
     "output_type": "execute_result"
    }
   ],
   "source": [
    "stage1[\"Finnish\"].isna().sum()"
   ]
  },
  {
   "cell_type": "code",
   "execution_count": 324,
   "id": "06c0ca0f-ba04-4418-82ad-d49adf1130ae",
   "metadata": {},
   "outputs": [
    {
     "data": {
      "text/plain": [
       "(653, 6)"
      ]
     },
     "execution_count": 324,
     "metadata": {},
     "output_type": "execute_result"
    }
   ],
   "source": [
    "s1clean = stage1[(stage1[\"Finnish\"].notnull()) &((stage1[\"POS1\"]==\"j\") | (stage1[\"POS1\"]==\"r\" )|(stage1[\"POS1\"]==\"fw\"))].copy()\n",
    "# s1clean = stage1[(stage1[\"Finnish\"].notnull())].copy()\n",
    "\n",
    "# s1clean[\"POS\"] = \"rj\" #adjs\n",
    "# # stage1[(stage1[\"Finnish\"].notnull())&(stage1[\"POS\"]==\"j\")].shape #adjs\n",
    "s1clean.shape"
   ]
  },
  {
   "cell_type": "code",
   "execution_count": 326,
   "id": "316affcd-0784-4ecc-bf38-9395b48067c6",
   "metadata": {},
   "outputs": [
    {
     "data": {
      "text/html": [
       "<div>\n",
       "<style scoped>\n",
       "    .dataframe tbody tr th:only-of-type {\n",
       "        vertical-align: middle;\n",
       "    }\n",
       "\n",
       "    .dataframe tbody tr th {\n",
       "        vertical-align: top;\n",
       "    }\n",
       "\n",
       "    .dataframe thead th {\n",
       "        text-align: right;\n",
       "    }\n",
       "</style>\n",
       "<table border=\"1\" class=\"dataframe\">\n",
       "  <thead>\n",
       "    <tr style=\"text-align: right;\">\n",
       "      <th></th>\n",
       "      <th>word</th>\n",
       "      <th>POS</th>\n",
       "      <th>ranking</th>\n",
       "      <th>Finnish</th>\n",
       "      <th>English</th>\n",
       "      <th>POS1</th>\n",
       "    </tr>\n",
       "  </thead>\n",
       "  <tbody>\n",
       "    <tr>\n",
       "      <th>0</th>\n",
       "      <td>able</td>\n",
       "      <td>j</td>\n",
       "      <td>609.0</td>\n",
       "      <td>kykenevä</td>\n",
       "      <td>able</td>\n",
       "      <td>j</td>\n",
       "    </tr>\n",
       "    <tr>\n",
       "      <th>1</th>\n",
       "      <td>above</td>\n",
       "      <td>fw</td>\n",
       "      <td>1555.0</td>\n",
       "      <td>ylinen</td>\n",
       "      <td>above</td>\n",
       "      <td>j</td>\n",
       "    </tr>\n",
       "    <tr>\n",
       "      <th>2</th>\n",
       "      <td>absolute</td>\n",
       "      <td>j</td>\n",
       "      <td>3511.0</td>\n",
       "      <td>absoluuttinen</td>\n",
       "      <td>absolute</td>\n",
       "      <td>j</td>\n",
       "    </tr>\n",
       "    <tr>\n",
       "      <th>3</th>\n",
       "      <td>absurd</td>\n",
       "      <td>j</td>\n",
       "      <td>4740.0</td>\n",
       "      <td>absurdi</td>\n",
       "      <td>absurd</td>\n",
       "      <td>j</td>\n",
       "    </tr>\n",
       "    <tr>\n",
       "      <th>4</th>\n",
       "      <td>acceptable</td>\n",
       "      <td>j</td>\n",
       "      <td>4477.0</td>\n",
       "      <td>hyväksyttävä</td>\n",
       "      <td>acceptable</td>\n",
       "      <td>j</td>\n",
       "    </tr>\n",
       "  </tbody>\n",
       "</table>\n",
       "</div>"
      ],
      "text/plain": [
       "         word POS  ranking        Finnish     English POS1\n",
       "0        able   j    609.0       kykenevä        able    j\n",
       "1       above  fw   1555.0         ylinen       above    j\n",
       "2    absolute   j   3511.0  absoluuttinen    absolute    j\n",
       "3      absurd   j   4740.0        absurdi      absurd    j\n",
       "4  acceptable   j   4477.0   hyväksyttävä  acceptable    j"
      ]
     },
     "execution_count": 326,
     "metadata": {},
     "output_type": "execute_result"
    }
   ],
   "source": [
    "s1clean.head()"
   ]
  },
  {
   "cell_type": "code",
   "execution_count": 330,
   "id": "d8cbeeab-7440-4f6c-91e0-62388417dc4b",
   "metadata": {},
   "outputs": [],
   "source": [
    "stage2 = pd.merge(rankingreduced, nouns, left_on = \"word\", right_on= \"English\", how = \"right\", left_index = False, right_index = False)"
   ]
  },
  {
   "cell_type": "code",
   "execution_count": 332,
   "id": "b82ab8e1-09c6-478f-9878-f14fd199173e",
   "metadata": {},
   "outputs": [
    {
     "data": {
      "text/plain": [
       "(2824, 6)"
      ]
     },
     "execution_count": 332,
     "metadata": {},
     "output_type": "execute_result"
    }
   ],
   "source": [
    "s2clean = stage2[(stage2[\"Finnish\"].notnull()) & (stage2[\"POS1\"]==\"n\") ] #nouns\n",
    "s2clean.shape"
   ]
  },
  {
   "cell_type": "code",
   "execution_count": 334,
   "id": "42bef27e-8693-4b51-a0f1-68224b69ebb3",
   "metadata": {},
   "outputs": [],
   "source": [
    "stage3 = pd.merge(rankingreduced, verbs, left_on = \"word\", right_on= \"English\", how = \"right\", left_index = False, right_index = False)"
   ]
  },
  {
   "cell_type": "code",
   "execution_count": 336,
   "id": "b67243ba-65ca-4891-ae9b-ea735eec1921",
   "metadata": {},
   "outputs": [
    {
     "data": {
      "text/plain": [
       "(1438, 6)"
      ]
     },
     "execution_count": 336,
     "metadata": {},
     "output_type": "execute_result"
    }
   ],
   "source": [
    "s3clean = stage3[stage3[\"Finnish\"].notnull()]\n",
    "s3clean.shape\n",
    "#verbs"
   ]
  },
  {
   "cell_type": "code",
   "execution_count": 338,
   "id": "9c0d0e32-94a9-4b55-b3a6-5f4b2303e36c",
   "metadata": {},
   "outputs": [
    {
     "data": {
      "text/plain": [
       "4166"
      ]
     },
     "execution_count": 338,
     "metadata": {},
     "output_type": "execute_result"
    }
   ],
   "source": [
    "#adj + v + n\n",
    "569+1138+2459\n"
   ]
  },
  {
   "cell_type": "code",
   "execution_count": 59,
   "id": "6e393427-63b7-4ce7-a1d8-3ab2a34815a0",
   "metadata": {},
   "outputs": [],
   "source": [
    "total = pd.concat([s1clean,s2clean,s3clean], ignore_index = True)"
   ]
  },
  {
   "cell_type": "code",
   "execution_count": null,
   "id": "3ed0720a-4b23-4de7-8353-00f4046c7dc5",
   "metadata": {},
   "outputs": [],
   "source": []
  },
  {
   "cell_type": "code",
   "execution_count": 113,
   "id": "ba024c23-35ef-4803-ac20-ff81f01c5e4a",
   "metadata": {},
   "outputs": [
    {
     "data": {
      "text/plain": [
       "POS\n",
       "n     2499\n",
       "v     1201\n",
       "rj     492\n",
       "j      157\n",
       "r       26\n",
       "u       16\n",
       "m       14\n",
       "fw      10\n",
       "Name: count, dtype: int64"
      ]
     },
     "execution_count": 113,
     "metadata": {},
     "output_type": "execute_result"
    }
   ],
   "source": [
    "total[(total[\"ranking\"]>= 0) & (total[\"ranking\"]<5000)][\"POS\"].value_counts()"
   ]
  },
  {
   "cell_type": "code",
   "execution_count": 91,
   "id": "69d2a574-98b7-44bf-9b62-38ae2568ed55",
   "metadata": {},
   "outputs": [
    {
     "data": {
      "text/plain": [
       "(165, 5)"
      ]
     },
     "execution_count": 91,
     "metadata": {},
     "output_type": "execute_result"
    }
   ],
   "source": [
    "# now split by ranking \n",
    "total[ ((total[\"ranking\"]>= 0) & (total[\"ranking\"]<500)) & (total['POS']==\"v\")].shape"
   ]
  },
  {
   "cell_type": "code",
   "execution_count": 93,
   "id": "ca913cd2-8e33-4bc7-b1bb-1bd62e097266",
   "metadata": {},
   "outputs": [
    {
     "data": {
      "text/plain": [
       "(139, 5)"
      ]
     },
     "execution_count": 93,
     "metadata": {},
     "output_type": "execute_result"
    }
   ],
   "source": [
    "total[ ((total[\"ranking\"]>= 0) & (total[\"ranking\"]<500)) & (total['POS']==\"n\")].shape"
   ]
  },
  {
   "cell_type": "code",
   "execution_count": 105,
   "id": "f634eecb-5818-401f-8db9-244badaf1fef",
   "metadata": {},
   "outputs": [
    {
     "data": {
      "text/plain": [
       "(2, 5)"
      ]
     },
     "execution_count": 105,
     "metadata": {},
     "output_type": "execute_result"
    }
   ],
   "source": [
    "total[ ((total[\"ranking\"]>= 0) & (total[\"ranking\"]<500)) & (total['POS']==\"fw\")].shape"
   ]
  },
  {
   "cell_type": "code",
   "execution_count": 103,
   "id": "c0e516f7-9ec1-4044-8cc3-6292732ee67d",
   "metadata": {},
   "outputs": [
    {
     "data": {
      "text/plain": [
       "(352, 5)"
      ]
     },
     "execution_count": 103,
     "metadata": {},
     "output_type": "execute_result"
    }
   ],
   "source": [
    "bounds = [0,500,1000,1500,2000,2500,3000,3500,4000]\n",
    "lower = bounds[0]\n",
    "upper = bounds[1]\n",
    "\n",
    "POS = [\"v\",\"n\",\"rj\"]\n",
    "\n",
    "batch = [ total[((total[\"ranking\"]>= lower) & (total[\"ranking\"]<upper)) & (total['POS']== pos)] for pos in POS]\n",
    "pd.concat(batch).shape\n",
    "name = f\"{lower}-{higher}\"\n",
    "   \n",
    "# def setbuilder(lower,upper):\n",
    "#     [total[ ((total[\"ranking\"]> lower) & (total[\"ranking\"]<upper)) & (total['POS']== pos)].shape for pos in POS"
   ]
  },
  {
   "cell_type": "code",
   "execution_count": null,
   "id": "d152badb-713e-4674-870a-bb3a3aac153c",
   "metadata": {},
   "outputs": [],
   "source": []
  },
  {
   "cell_type": "code",
   "execution_count": null,
   "id": "9a41943f-32e5-413e-9aa6-0a133d25d6c9",
   "metadata": {},
   "outputs": [],
   "source": []
  },
  {
   "cell_type": "code",
   "execution_count": null,
   "id": "56fe3bc2-6964-4aa7-be76-140fd9a5229f",
   "metadata": {},
   "outputs": [],
   "source": []
  },
  {
   "cell_type": "code",
   "execution_count": null,
   "id": "f9ae5509-344b-413c-8b88-1a3b3c435339",
   "metadata": {},
   "outputs": [],
   "source": []
  },
  {
   "cell_type": "code",
   "execution_count": 197,
   "id": "a21dd528-5c72-4c28-acdc-939bc7799a31",
   "metadata": {},
   "outputs": [],
   "source": [
    "total.to_csv(\"./check me.csv\", encoding = \"utf-8-sig\")"
   ]
  },
  {
   "cell_type": "code",
   "execution_count": 1,
   "id": "6015da0b-2c90-4359-b666-bb84e13aee9b",
   "metadata": {},
   "outputs": [
    {
     "ename": "NameError",
     "evalue": "name 'pd' is not defined",
     "output_type": "error",
     "traceback": [
      "\u001b[1;31m---------------------------------------------------------------------------\u001b[0m",
      "\u001b[1;31mNameError\u001b[0m                                 Traceback (most recent call last)",
      "Cell \u001b[1;32mIn[1], line 1\u001b[0m\n\u001b[1;32m----> 1\u001b[0m help(pd\u001b[38;5;241m.\u001b[39mread_excel)\n",
      "\u001b[1;31mNameError\u001b[0m: name 'pd' is not defined"
     ]
    }
   ],
   "source": [
    "help(pd.read_excel)"
   ]
  },
  {
   "cell_type": "code",
   "execution_count": 23,
   "id": "9a3c89b7-6760-4491-b4f6-4ef303cc7012",
   "metadata": {},
   "outputs": [
    {
     "name": "stdout",
     "output_type": "stream",
     "text": [
      "Help on function merge in module pandas.core.reshape.merge:\n",
      "\n",
      "merge(left: 'DataFrame | Series', right: 'DataFrame | Series', how: 'MergeHow' = 'inner', on: 'IndexLabel | AnyArrayLike | None' = None, left_on: 'IndexLabel | AnyArrayLike | None' = None, right_on: 'IndexLabel | AnyArrayLike | None' = None, left_index: 'bool' = False, right_index: 'bool' = False, sort: 'bool' = False, suffixes: 'Suffixes' = ('_x', '_y'), copy: 'bool | None' = None, indicator: 'str | bool' = False, validate: 'str | None' = None) -> 'DataFrame'\n",
      "    Merge DataFrame or named Series objects with a database-style join.\n",
      "\n",
      "    A named Series object is treated as a DataFrame with a single named column.\n",
      "\n",
      "    The join is done on columns or indexes. If joining columns on\n",
      "    columns, the DataFrame indexes *will be ignored*. Otherwise if joining indexes\n",
      "    on indexes or indexes on a column or columns, the index will be passed on.\n",
      "    When performing a cross merge, no column specifications to merge on are\n",
      "    allowed.\n",
      "\n",
      "    .. warning::\n",
      "\n",
      "        If both key columns contain rows where the key is a null value, those\n",
      "        rows will be matched against each other. This is different from usual SQL\n",
      "        join behaviour and can lead to unexpected results.\n",
      "\n",
      "    Parameters\n",
      "    ----------\n",
      "    left : DataFrame or named Series\n",
      "    right : DataFrame or named Series\n",
      "        Object to merge with.\n",
      "    how : {'left', 'right', 'outer', 'inner', 'cross'}, default 'inner'\n",
      "        Type of merge to be performed.\n",
      "\n",
      "        * left: use only keys from left frame, similar to a SQL left outer join;\n",
      "          preserve key order.\n",
      "        * right: use only keys from right frame, similar to a SQL right outer join;\n",
      "          preserve key order.\n",
      "        * outer: use union of keys from both frames, similar to a SQL full outer\n",
      "          join; sort keys lexicographically.\n",
      "        * inner: use intersection of keys from both frames, similar to a SQL inner\n",
      "          join; preserve the order of the left keys.\n",
      "        * cross: creates the cartesian product from both frames, preserves the order\n",
      "          of the left keys.\n",
      "    on : label or list\n",
      "        Column or index level names to join on. These must be found in both\n",
      "        DataFrames. If `on` is None and not merging on indexes then this defaults\n",
      "        to the intersection of the columns in both DataFrames.\n",
      "    left_on : label or list, or array-like\n",
      "        Column or index level names to join on in the left DataFrame. Can also\n",
      "        be an array or list of arrays of the length of the left DataFrame.\n",
      "        These arrays are treated as if they are columns.\n",
      "    right_on : label or list, or array-like\n",
      "        Column or index level names to join on in the right DataFrame. Can also\n",
      "        be an array or list of arrays of the length of the right DataFrame.\n",
      "        These arrays are treated as if they are columns.\n",
      "    left_index : bool, default False\n",
      "        Use the index from the left DataFrame as the join key(s). If it is a\n",
      "        MultiIndex, the number of keys in the other DataFrame (either the index\n",
      "        or a number of columns) must match the number of levels.\n",
      "    right_index : bool, default False\n",
      "        Use the index from the right DataFrame as the join key. Same caveats as\n",
      "        left_index.\n",
      "    sort : bool, default False\n",
      "        Sort the join keys lexicographically in the result DataFrame. If False,\n",
      "        the order of the join keys depends on the join type (how keyword).\n",
      "    suffixes : list-like, default is (\"_x\", \"_y\")\n",
      "        A length-2 sequence where each element is optionally a string\n",
      "        indicating the suffix to add to overlapping column names in\n",
      "        `left` and `right` respectively. Pass a value of `None` instead\n",
      "        of a string to indicate that the column name from `left` or\n",
      "        `right` should be left as-is, with no suffix. At least one of the\n",
      "        values must not be None.\n",
      "    copy : bool, default True\n",
      "        If False, avoid copy if possible.\n",
      "\n",
      "        .. note::\n",
      "            The `copy` keyword will change behavior in pandas 3.0.\n",
      "            `Copy-on-Write\n",
      "            <https://pandas.pydata.org/docs/dev/user_guide/copy_on_write.html>`__\n",
      "            will be enabled by default, which means that all methods with a\n",
      "            `copy` keyword will use a lazy copy mechanism to defer the copy and\n",
      "            ignore the `copy` keyword. The `copy` keyword will be removed in a\n",
      "            future version of pandas.\n",
      "\n",
      "            You can already get the future behavior and improvements through\n",
      "            enabling copy on write ``pd.options.mode.copy_on_write = True``\n",
      "    indicator : bool or str, default False\n",
      "        If True, adds a column to the output DataFrame called \"_merge\" with\n",
      "        information on the source of each row. The column can be given a different\n",
      "        name by providing a string argument. The column will have a Categorical\n",
      "        type with the value of \"left_only\" for observations whose merge key only\n",
      "        appears in the left DataFrame, \"right_only\" for observations\n",
      "        whose merge key only appears in the right DataFrame, and \"both\"\n",
      "        if the observation's merge key is found in both DataFrames.\n",
      "\n",
      "    validate : str, optional\n",
      "        If specified, checks if merge is of specified type.\n",
      "\n",
      "        * \"one_to_one\" or \"1:1\": check if merge keys are unique in both\n",
      "          left and right datasets.\n",
      "        * \"one_to_many\" or \"1:m\": check if merge keys are unique in left\n",
      "          dataset.\n",
      "        * \"many_to_one\" or \"m:1\": check if merge keys are unique in right\n",
      "          dataset.\n",
      "        * \"many_to_many\" or \"m:m\": allowed, but does not result in checks.\n",
      "\n",
      "    Returns\n",
      "    -------\n",
      "    DataFrame\n",
      "        A DataFrame of the two merged objects.\n",
      "\n",
      "    See Also\n",
      "    --------\n",
      "    merge_ordered : Merge with optional filling/interpolation.\n",
      "    merge_asof : Merge on nearest keys.\n",
      "    DataFrame.join : Similar method using indices.\n",
      "\n",
      "    Examples\n",
      "    --------\n",
      "    >>> df1 = pd.DataFrame({'lkey': ['foo', 'bar', 'baz', 'foo'],\n",
      "    ...                     'value': [1, 2, 3, 5]})\n",
      "    >>> df2 = pd.DataFrame({'rkey': ['foo', 'bar', 'baz', 'foo'],\n",
      "    ...                     'value': [5, 6, 7, 8]})\n",
      "    >>> df1\n",
      "        lkey value\n",
      "    0   foo      1\n",
      "    1   bar      2\n",
      "    2   baz      3\n",
      "    3   foo      5\n",
      "    >>> df2\n",
      "        rkey value\n",
      "    0   foo      5\n",
      "    1   bar      6\n",
      "    2   baz      7\n",
      "    3   foo      8\n",
      "\n",
      "    Merge df1 and df2 on the lkey and rkey columns. The value columns have\n",
      "    the default suffixes, _x and _y, appended.\n",
      "\n",
      "    >>> df1.merge(df2, left_on='lkey', right_on='rkey')\n",
      "      lkey  value_x rkey  value_y\n",
      "    0  foo        1  foo        5\n",
      "    1  foo        1  foo        8\n",
      "    2  bar        2  bar        6\n",
      "    3  baz        3  baz        7\n",
      "    4  foo        5  foo        5\n",
      "    5  foo        5  foo        8\n",
      "\n",
      "    Merge DataFrames df1 and df2 with specified left and right suffixes\n",
      "    appended to any overlapping columns.\n",
      "\n",
      "    >>> df1.merge(df2, left_on='lkey', right_on='rkey',\n",
      "    ...           suffixes=('_left', '_right'))\n",
      "      lkey  value_left rkey  value_right\n",
      "    0  foo           1  foo            5\n",
      "    1  foo           1  foo            8\n",
      "    2  bar           2  bar            6\n",
      "    3  baz           3  baz            7\n",
      "    4  foo           5  foo            5\n",
      "    5  foo           5  foo            8\n",
      "\n",
      "    Merge DataFrames df1 and df2, but raise an exception if the DataFrames have\n",
      "    any overlapping columns.\n",
      "\n",
      "    >>> df1.merge(df2, left_on='lkey', right_on='rkey', suffixes=(False, False))\n",
      "    Traceback (most recent call last):\n",
      "    ...\n",
      "    ValueError: columns overlap but no suffix specified:\n",
      "        Index(['value'], dtype='object')\n",
      "\n",
      "    >>> df1 = pd.DataFrame({'a': ['foo', 'bar'], 'b': [1, 2]})\n",
      "    >>> df2 = pd.DataFrame({'a': ['foo', 'baz'], 'c': [3, 4]})\n",
      "    >>> df1\n",
      "          a  b\n",
      "    0   foo  1\n",
      "    1   bar  2\n",
      "    >>> df2\n",
      "          a  c\n",
      "    0   foo  3\n",
      "    1   baz  4\n",
      "\n",
      "    >>> df1.merge(df2, how='inner', on='a')\n",
      "          a  b  c\n",
      "    0   foo  1  3\n",
      "\n",
      "    >>> df1.merge(df2, how='left', on='a')\n",
      "          a  b  c\n",
      "    0   foo  1  3.0\n",
      "    1   bar  2  NaN\n",
      "\n",
      "    >>> df1 = pd.DataFrame({'left': ['foo', 'bar']})\n",
      "    >>> df2 = pd.DataFrame({'right': [7, 8]})\n",
      "    >>> df1\n",
      "        left\n",
      "    0   foo\n",
      "    1   bar\n",
      "    >>> df2\n",
      "        right\n",
      "    0   7\n",
      "    1   8\n",
      "\n",
      "    >>> df1.merge(df2, how='cross')\n",
      "       left  right\n",
      "    0   foo      7\n",
      "    1   foo      8\n",
      "    2   bar      7\n",
      "    3   bar      8\n",
      "\n"
     ]
    }
   ],
   "source": [
    "# help(pd.merge)"
   ]
  },
  {
   "cell_type": "code",
   "execution_count": 169,
   "id": "0fdb33d1-44af-4880-a3ee-763c7f773ddc",
   "metadata": {},
   "outputs": [
    {
     "data": {
      "text/html": [
       "<div>\n",
       "<style scoped>\n",
       "    .dataframe tbody tr th:only-of-type {\n",
       "        vertical-align: middle;\n",
       "    }\n",
       "\n",
       "    .dataframe tbody tr th {\n",
       "        vertical-align: top;\n",
       "    }\n",
       "\n",
       "    .dataframe thead th {\n",
       "        text-align: right;\n",
       "    }\n",
       "</style>\n",
       "<table border=\"1\" class=\"dataframe\">\n",
       "  <thead>\n",
       "    <tr style=\"text-align: right;\">\n",
       "      <th></th>\n",
       "      <th>index</th>\n",
       "      <th>Summary</th>\n",
       "      <th>word</th>\n",
       "      <th>POS</th>\n",
       "      <th>freq</th>\n",
       "      <th>forms</th>\n",
       "      <th>important</th>\n",
       "      <th>ranking</th>\n",
       "    </tr>\n",
       "  </thead>\n",
       "  <tbody>\n",
       "    <tr>\n",
       "      <th>0</th>\n",
       "      <td>2</td>\n",
       "      <td>I|fw</td>\n",
       "      <td>I</td>\n",
       "      <td>fw</td>\n",
       "      <td>267578.0</td>\n",
       "      <td>I</td>\n",
       "      <td>vital</td>\n",
       "      <td>2</td>\n",
       "    </tr>\n",
       "    <tr>\n",
       "      <th>1</th>\n",
       "      <td>3</td>\n",
       "      <td>you|fw</td>\n",
       "      <td>you</td>\n",
       "      <td>fw</td>\n",
       "      <td>248266.0</td>\n",
       "      <td>you</td>\n",
       "      <td>vital</td>\n",
       "      <td>3</td>\n",
       "    </tr>\n",
       "    <tr>\n",
       "      <th>2</th>\n",
       "      <td>4</td>\n",
       "      <td>the|fw</td>\n",
       "      <td>the</td>\n",
       "      <td>fw</td>\n",
       "      <td>176446.0</td>\n",
       "      <td>the</td>\n",
       "      <td>vital</td>\n",
       "      <td>4</td>\n",
       "    </tr>\n",
       "    <tr>\n",
       "      <th>3</th>\n",
       "      <td>5</td>\n",
       "      <td>a|fw</td>\n",
       "      <td>a</td>\n",
       "      <td>fw</td>\n",
       "      <td>152598.0</td>\n",
       "      <td>a, an</td>\n",
       "      <td>vital</td>\n",
       "      <td>5</td>\n",
       "    </tr>\n",
       "    <tr>\n",
       "      <th>4</th>\n",
       "      <td>6</td>\n",
       "      <td>to|fw</td>\n",
       "      <td>to</td>\n",
       "      <td>fw</td>\n",
       "      <td>151270.0</td>\n",
       "      <td>to</td>\n",
       "      <td>vital</td>\n",
       "      <td>6</td>\n",
       "    </tr>\n",
       "    <tr>\n",
       "      <th>...</th>\n",
       "      <td>...</td>\n",
       "      <td>...</td>\n",
       "      <td>...</td>\n",
       "      <td>...</td>\n",
       "      <td>...</td>\n",
       "      <td>...</td>\n",
       "      <td>...</td>\n",
       "      <td>...</td>\n",
       "    </tr>\n",
       "    <tr>\n",
       "      <th>489</th>\n",
       "      <td>4770</td>\n",
       "      <td>horribly|r</td>\n",
       "      <td>horribly</td>\n",
       "      <td>r</td>\n",
       "      <td>36.0</td>\n",
       "      <td>horribly</td>\n",
       "      <td>bonus</td>\n",
       "      <td>4770</td>\n",
       "    </tr>\n",
       "    <tr>\n",
       "      <th>490</th>\n",
       "      <td>4902</td>\n",
       "      <td>poorly|r</td>\n",
       "      <td>poorly</td>\n",
       "      <td>r</td>\n",
       "      <td>34.0</td>\n",
       "      <td>poorly</td>\n",
       "      <td>bonus</td>\n",
       "      <td>4902</td>\n",
       "    </tr>\n",
       "    <tr>\n",
       "      <th>491</th>\n",
       "      <td>5043</td>\n",
       "      <td>sincerely|r</td>\n",
       "      <td>sincerely</td>\n",
       "      <td>r</td>\n",
       "      <td>32.0</td>\n",
       "      <td>sincerely</td>\n",
       "      <td>bonus</td>\n",
       "      <td>5043</td>\n",
       "    </tr>\n",
       "    <tr>\n",
       "      <th>492</th>\n",
       "      <td>5008</td>\n",
       "      <td>elsewhere|r</td>\n",
       "      <td>elsewhere</td>\n",
       "      <td>r</td>\n",
       "      <td>32.0</td>\n",
       "      <td>elsewhere</td>\n",
       "      <td>bonus</td>\n",
       "      <td>5008</td>\n",
       "    </tr>\n",
       "    <tr>\n",
       "      <th>493</th>\n",
       "      <td>5023</td>\n",
       "      <td>ironically|r</td>\n",
       "      <td>ironically</td>\n",
       "      <td>r</td>\n",
       "      <td>32.0</td>\n",
       "      <td>ironically</td>\n",
       "      <td>bonus</td>\n",
       "      <td>5023</td>\n",
       "    </tr>\n",
       "  </tbody>\n",
       "</table>\n",
       "<p>494 rows × 8 columns</p>\n",
       "</div>"
      ],
      "text/plain": [
       "     index       Summary        word POS      freq       forms important  \\\n",
       "0        2          I|fw           I  fw  267578.0           I     vital   \n",
       "1        3        you|fw         you  fw  248266.0         you     vital   \n",
       "2        4        the|fw         the  fw  176446.0         the     vital   \n",
       "3        5          a|fw           a  fw  152598.0       a, an     vital   \n",
       "4        6         to|fw          to  fw  151270.0          to     vital   \n",
       "..     ...           ...         ...  ..       ...         ...       ...   \n",
       "489   4770    horribly|r    horribly   r      36.0    horribly     bonus   \n",
       "490   4902      poorly|r      poorly   r      34.0      poorly     bonus   \n",
       "491   5043   sincerely|r   sincerely   r      32.0   sincerely     bonus   \n",
       "492   5008   elsewhere|r   elsewhere   r      32.0   elsewhere     bonus   \n",
       "493   5023  ironically|r  ironically   r      32.0  ironically     bonus   \n",
       "\n",
       "     ranking  \n",
       "0          2  \n",
       "1          3  \n",
       "2          4  \n",
       "3          5  \n",
       "4          6  \n",
       "..       ...  \n",
       "489     4770  \n",
       "490     4902  \n",
       "491     5043  \n",
       "492     5008  \n",
       "493     5023  \n",
       "\n",
       "[494 rows x 8 columns]"
      ]
     },
     "execution_count": 169,
     "metadata": {},
     "output_type": "execute_result"
    }
   ],
   "source": [
    "#Manual translate required \n",
    "u = rankings[rankings[\"POS\"]==\"u\"]\n",
    "fw = rankings[rankings[\"POS\"]==\"fw\"]\n",
    "abbr = rankings[rankings[\"POS\"]==\"abbr\"]\n",
    "r = rankings[rankings[\"POS\"]==\"r\"]\n",
    "\n",
    "pd.concat([fw,u,abbr,r], ignore_index = True)"
   ]
  },
  {
   "cell_type": "code",
   "execution_count": null,
   "id": "d833a860-a9b3-4ee3-8b7e-33dec1461bc8",
   "metadata": {},
   "outputs": [],
   "source": []
  }
 ],
 "metadata": {
  "kernelspec": {
   "display_name": "Python 3 (ipykernel)",
   "language": "python",
   "name": "python3"
  },
  "language_info": {
   "codemirror_mode": {
    "name": "ipython",
    "version": 3
   },
   "file_extension": ".py",
   "mimetype": "text/x-python",
   "name": "python",
   "nbconvert_exporter": "python",
   "pygments_lexer": "ipython3",
   "version": "3.12.4"
  }
 },
 "nbformat": 4,
 "nbformat_minor": 5
}
