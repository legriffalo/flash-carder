{
 "cells": [
  {
   "cell_type": "markdown",
   "id": "38a18647-dc7d-4445-be2f-4a2ef7ca23ef",
   "metadata": {},
   "source": [
    "target format is JSON\n",
    "{\n",
    "\"demoset\":{\"bottle\":\"pullo\",\"station\":\"asema\",\"shelf\":\"hylly\",\"bar\":\"baari\"},\n",
    "\"demoset2\":{\"bottle2\":\"pullo2\",\"station2\":\"asema2\",\"shelf2\":\"hylly2\",\"bar2\":\"baari2\"}\n",
    " }"
   ]
  },
  {
   "cell_type": "code",
   "execution_count": 70,
   "id": "f59b1b70-befb-4311-a2d8-f139c2375612",
   "metadata": {},
   "outputs": [],
   "source": [
    "import pandas as pd\n",
    "import json"
   ]
  },
  {
   "cell_type": "code",
   "execution_count": 7,
   "id": "1a9d9d97-cef7-4d0b-9516-1a93f4359e02",
   "metadata": {},
   "outputs": [],
   "source": [
    "nouns = pd.read_excel(\"./core words completed.xlsx\", 0 )\n",
    "verbs = pd.read_excel(\"./core words completed.xlsx\", 2)\n",
    "adj = pd.read_excel(\"./core words completed.xlsx\", 1 )\n",
    "rankings = pd.read_csv(\"./rankedvocab.csv\")"
   ]
  },
  {
   "cell_type": "code",
   "execution_count": 8,
   "id": "e5b92fce-23a2-46f2-ab0e-011e685ed362",
   "metadata": {},
   "outputs": [
    {
     "data": {
      "text/plain": [
       "(2459, 3)"
      ]
     },
     "execution_count": 8,
     "metadata": {},
     "output_type": "execute_result"
    }
   ],
   "source": [
    "nouns[\"POS1\"] = \"n\"\n",
    "nouns.head()\n",
    "nouns.shape"
   ]
  },
  {
   "cell_type": "code",
   "execution_count": 9,
   "id": "79a11176-e8b8-44bb-849b-e0c161f375c5",
   "metadata": {},
   "outputs": [
    {
     "data": {
      "text/plain": [
       "(1138, 3)"
      ]
     },
     "execution_count": 9,
     "metadata": {},
     "output_type": "execute_result"
    }
   ],
   "source": [
    "verbs.head()\n",
    "verbs.columns = [\"Finnish\",\"English\"]\n",
    "verbs[\"POS1\"] = \"v\"\n",
    "verbs.shape"
   ]
  },
  {
   "cell_type": "code",
   "execution_count": 10,
   "id": "80695791-e785-42f6-8b4a-d883dd785175",
   "metadata": {},
   "outputs": [
    {
     "data": {
      "text/plain": [
       "(569, 3)"
      ]
     },
     "execution_count": 10,
     "metadata": {},
     "output_type": "execute_result"
    }
   ],
   "source": [
    "adj.head()\n",
    "adj[\"POS1\"] = \"j\"\n",
    "adj.shape"
   ]
  },
  {
   "cell_type": "code",
   "execution_count": 11,
   "id": "cdfd4d18-f6f6-42ec-a88a-34538db51875",
   "metadata": {},
   "outputs": [
    {
     "data": {
      "text/plain": [
       "POS\n",
       "n       2688\n",
       "v       1042\n",
       "j        692\n",
       "r        214\n",
       "fw       167\n",
       "u         99\n",
       "m         84\n",
       "K         62\n",
       "abbr      14\n",
       "Name: count, dtype: int64"
      ]
     },
     "execution_count": 11,
     "metadata": {},
     "output_type": "execute_result"
    }
   ],
   "source": [
    "rankings.head()\n",
    "rankings[\"POS\"].value_counts()"
   ]
  },
  {
   "cell_type": "code",
   "execution_count": 12,
   "id": "56d7b5fd-1b11-4f51-a4e3-725982866253",
   "metadata": {},
   "outputs": [
    {
     "data": {
      "text/plain": [
       "(214, 8)"
      ]
     },
     "execution_count": 12,
     "metadata": {},
     "output_type": "execute_result"
    }
   ],
   "source": [
    "rankings[rankings[\"POS\"]==\"r\"].shape"
   ]
  },
  {
   "cell_type": "code",
   "execution_count": 13,
   "id": "ba6b330d-f51c-4ca4-ac50-2043a9bec123",
   "metadata": {},
   "outputs": [
    {
     "data": {
      "text/plain": [
       "(5063, 3)"
      ]
     },
     "execution_count": 13,
     "metadata": {},
     "output_type": "execute_result"
    }
   ],
   "source": [
    "rankingreduced = rankings[[\"word\",\"POS\",\"ranking\"]]\n",
    "# rankingreduced = rankings[[\"word\",\"ranking\"]]\n",
    "\n",
    "rankingreduced.head()\n",
    "rankingreduced.shape"
   ]
  },
  {
   "cell_type": "code",
   "execution_count": 14,
   "id": "d27e8925-fbec-441e-a414-c502225dc18c",
   "metadata": {},
   "outputs": [
    {
     "data": {
      "text/plain": [
       "(569, 6)"
      ]
     },
     "execution_count": 14,
     "metadata": {},
     "output_type": "execute_result"
    }
   ],
   "source": [
    "stage1 = pd.merge(rankingreduced,\n",
    "                  adj,\n",
    "                  left_on = [\"word\",'POS'],\n",
    "                  right_on= [\"English\",'POS1'],\n",
    "                  how = \"right\",\n",
    "                  left_index = False,\n",
    "                  right_index = False)\n",
    "stage1.shape"
   ]
  },
  {
   "cell_type": "code",
   "execution_count": 15,
   "id": "68da3a71-5763-4438-ab92-2835ab9c0c18",
   "metadata": {},
   "outputs": [
    {
     "data": {
      "text/html": [
       "<div>\n",
       "<style scoped>\n",
       "    .dataframe tbody tr th:only-of-type {\n",
       "        vertical-align: middle;\n",
       "    }\n",
       "\n",
       "    .dataframe tbody tr th {\n",
       "        vertical-align: top;\n",
       "    }\n",
       "\n",
       "    .dataframe thead th {\n",
       "        text-align: right;\n",
       "    }\n",
       "</style>\n",
       "<table border=\"1\" class=\"dataframe\">\n",
       "  <thead>\n",
       "    <tr style=\"text-align: right;\">\n",
       "      <th></th>\n",
       "      <th>word</th>\n",
       "      <th>POS</th>\n",
       "      <th>ranking</th>\n",
       "      <th>Finnish</th>\n",
       "      <th>English</th>\n",
       "      <th>POS1</th>\n",
       "    </tr>\n",
       "  </thead>\n",
       "  <tbody>\n",
       "    <tr>\n",
       "      <th>0</th>\n",
       "      <td>able</td>\n",
       "      <td>j</td>\n",
       "      <td>609.0</td>\n",
       "      <td>kykenevä</td>\n",
       "      <td>able</td>\n",
       "      <td>j</td>\n",
       "    </tr>\n",
       "    <tr>\n",
       "      <th>1</th>\n",
       "      <td>NaN</td>\n",
       "      <td>NaN</td>\n",
       "      <td>NaN</td>\n",
       "      <td>ylinen</td>\n",
       "      <td>above</td>\n",
       "      <td>j</td>\n",
       "    </tr>\n",
       "    <tr>\n",
       "      <th>2</th>\n",
       "      <td>absolute</td>\n",
       "      <td>j</td>\n",
       "      <td>3511.0</td>\n",
       "      <td>absoluuttinen</td>\n",
       "      <td>absolute</td>\n",
       "      <td>j</td>\n",
       "    </tr>\n",
       "    <tr>\n",
       "      <th>3</th>\n",
       "      <td>absurd</td>\n",
       "      <td>j</td>\n",
       "      <td>4740.0</td>\n",
       "      <td>absurdi</td>\n",
       "      <td>absurd</td>\n",
       "      <td>j</td>\n",
       "    </tr>\n",
       "    <tr>\n",
       "      <th>4</th>\n",
       "      <td>acceptable</td>\n",
       "      <td>j</td>\n",
       "      <td>4477.0</td>\n",
       "      <td>hyväksyttävä</td>\n",
       "      <td>acceptable</td>\n",
       "      <td>j</td>\n",
       "    </tr>\n",
       "  </tbody>\n",
       "</table>\n",
       "</div>"
      ],
      "text/plain": [
       "         word  POS  ranking        Finnish     English POS1\n",
       "0        able    j    609.0       kykenevä        able    j\n",
       "1         NaN  NaN      NaN         ylinen       above    j\n",
       "2    absolute    j   3511.0  absoluuttinen    absolute    j\n",
       "3      absurd    j   4740.0        absurdi      absurd    j\n",
       "4  acceptable    j   4477.0   hyväksyttävä  acceptable    j"
      ]
     },
     "execution_count": 15,
     "metadata": {},
     "output_type": "execute_result"
    }
   ],
   "source": [
    "stage1.head()"
   ]
  },
  {
   "cell_type": "code",
   "execution_count": 16,
   "id": "9006579e-0745-45ec-95eb-1c4590186666",
   "metadata": {},
   "outputs": [
    {
     "data": {
      "text/plain": [
       "(569, 6)"
      ]
     },
     "execution_count": 16,
     "metadata": {},
     "output_type": "execute_result"
    }
   ],
   "source": [
    "stage1[stage1[\"POS1\"]==\"j\"].shape"
   ]
  },
  {
   "cell_type": "code",
   "execution_count": 23,
   "id": "456cee0b-8b1f-4d06-8310-de3d80e1ca15",
   "metadata": {},
   "outputs": [
    {
     "data": {
      "text/plain": [
       "0"
      ]
     },
     "execution_count": 23,
     "metadata": {},
     "output_type": "execute_result"
    }
   ],
   "source": [
    "stage1[\"Finnish\"].isna().sum()"
   ]
  },
  {
   "cell_type": "code",
   "execution_count": 29,
   "id": "06c0ca0f-ba04-4418-82ad-d49adf1130ae",
   "metadata": {},
   "outputs": [
    {
     "data": {
      "text/plain": [
       "(569, 6)"
      ]
     },
     "execution_count": 29,
     "metadata": {},
     "output_type": "execute_result"
    }
   ],
   "source": [
    "s1clean = stage1[(stage1[\"Finnish\"].notnull()) &((stage1[\"POS1\"]==\"j\") | (stage1[\"POS1\"]==\"r\" )|(stage1[\"POS1\"]==\"fw\"))].copy()\n",
    "# s1clean = stage1[(stage1[\"Finnish\"].notnull())].copy()\n",
    "\n",
    "# s1clean[\"POS\"] = \"rj\" #adjs\n",
    "# # stage1[(stage1[\"Finnish\"].notnull())&(stage1[\"POS\"]==\"j\")].shape #adjs\n",
    "s1clean.shape"
   ]
  },
  {
   "cell_type": "code",
   "execution_count": 31,
   "id": "316affcd-0784-4ecc-bf38-9395b48067c6",
   "metadata": {},
   "outputs": [
    {
     "data": {
      "text/html": [
       "<div>\n",
       "<style scoped>\n",
       "    .dataframe tbody tr th:only-of-type {\n",
       "        vertical-align: middle;\n",
       "    }\n",
       "\n",
       "    .dataframe tbody tr th {\n",
       "        vertical-align: top;\n",
       "    }\n",
       "\n",
       "    .dataframe thead th {\n",
       "        text-align: right;\n",
       "    }\n",
       "</style>\n",
       "<table border=\"1\" class=\"dataframe\">\n",
       "  <thead>\n",
       "    <tr style=\"text-align: right;\">\n",
       "      <th></th>\n",
       "      <th>word</th>\n",
       "      <th>POS</th>\n",
       "      <th>ranking</th>\n",
       "      <th>Finnish</th>\n",
       "      <th>English</th>\n",
       "      <th>POS1</th>\n",
       "    </tr>\n",
       "  </thead>\n",
       "  <tbody>\n",
       "    <tr>\n",
       "      <th>0</th>\n",
       "      <td>able</td>\n",
       "      <td>j</td>\n",
       "      <td>609.0</td>\n",
       "      <td>kykenevä</td>\n",
       "      <td>able</td>\n",
       "      <td>j</td>\n",
       "    </tr>\n",
       "    <tr>\n",
       "      <th>1</th>\n",
       "      <td>NaN</td>\n",
       "      <td>NaN</td>\n",
       "      <td>NaN</td>\n",
       "      <td>ylinen</td>\n",
       "      <td>above</td>\n",
       "      <td>j</td>\n",
       "    </tr>\n",
       "    <tr>\n",
       "      <th>2</th>\n",
       "      <td>absolute</td>\n",
       "      <td>j</td>\n",
       "      <td>3511.0</td>\n",
       "      <td>absoluuttinen</td>\n",
       "      <td>absolute</td>\n",
       "      <td>j</td>\n",
       "    </tr>\n",
       "    <tr>\n",
       "      <th>3</th>\n",
       "      <td>absurd</td>\n",
       "      <td>j</td>\n",
       "      <td>4740.0</td>\n",
       "      <td>absurdi</td>\n",
       "      <td>absurd</td>\n",
       "      <td>j</td>\n",
       "    </tr>\n",
       "    <tr>\n",
       "      <th>4</th>\n",
       "      <td>acceptable</td>\n",
       "      <td>j</td>\n",
       "      <td>4477.0</td>\n",
       "      <td>hyväksyttävä</td>\n",
       "      <td>acceptable</td>\n",
       "      <td>j</td>\n",
       "    </tr>\n",
       "  </tbody>\n",
       "</table>\n",
       "</div>"
      ],
      "text/plain": [
       "         word  POS  ranking        Finnish     English POS1\n",
       "0        able    j    609.0       kykenevä        able    j\n",
       "1         NaN  NaN      NaN         ylinen       above    j\n",
       "2    absolute    j   3511.0  absoluuttinen    absolute    j\n",
       "3      absurd    j   4740.0        absurdi      absurd    j\n",
       "4  acceptable    j   4477.0   hyväksyttävä  acceptable    j"
      ]
     },
     "execution_count": 31,
     "metadata": {},
     "output_type": "execute_result"
    }
   ],
   "source": [
    "s1clean.head()"
   ]
  },
  {
   "cell_type": "code",
   "execution_count": 33,
   "id": "d8cbeeab-7440-4f6c-91e0-62388417dc4b",
   "metadata": {},
   "outputs": [],
   "source": [
    "stage2 = pd.merge(rankingreduced, \n",
    "                  nouns, \n",
    "                  left_on = [\"word\",'POS'],\n",
    "                  right_on= [\"English\",'POS1'],\n",
    "                  how = \"right\",\n",
    "                  left_index = False, \n",
    "                  right_index = False)"
   ]
  },
  {
   "cell_type": "code",
   "execution_count": 35,
   "id": "b82ab8e1-09c6-478f-9878-f14fd199173e",
   "metadata": {},
   "outputs": [
    {
     "data": {
      "text/plain": [
       "(2459, 6)"
      ]
     },
     "execution_count": 35,
     "metadata": {},
     "output_type": "execute_result"
    }
   ],
   "source": [
    "s2clean = stage2[(stage2[\"Finnish\"].notnull()) & (stage2[\"POS1\"]==\"n\") ] #nouns\n",
    "s2clean.shape"
   ]
  },
  {
   "cell_type": "code",
   "execution_count": 37,
   "id": "42bef27e-8693-4b51-a0f1-68224b69ebb3",
   "metadata": {},
   "outputs": [],
   "source": [
    "stage3 = pd.merge(rankingreduced,\n",
    "                  verbs,\n",
    "                  left_on = [\"word\",'POS'],\n",
    "                  right_on= [\"English\",'POS1'],\n",
    "                  how = \"right\",\n",
    "                  left_index = False,\n",
    "                  right_index = False)"
   ]
  },
  {
   "cell_type": "code",
   "execution_count": 39,
   "id": "b67243ba-65ca-4891-ae9b-ea735eec1921",
   "metadata": {},
   "outputs": [
    {
     "data": {
      "text/plain": [
       "(1138, 6)"
      ]
     },
     "execution_count": 39,
     "metadata": {},
     "output_type": "execute_result"
    }
   ],
   "source": [
    "s3clean = stage3[stage3[\"Finnish\"].notnull()]\n",
    "s3clean.shape\n",
    "#verbs"
   ]
  },
  {
   "cell_type": "code",
   "execution_count": 41,
   "id": "9c0d0e32-94a9-4b55-b3a6-5f4b2303e36c",
   "metadata": {},
   "outputs": [
    {
     "data": {
      "text/plain": [
       "4166"
      ]
     },
     "execution_count": 41,
     "metadata": {},
     "output_type": "execute_result"
    }
   ],
   "source": [
    "#adj + v + n\n",
    "569+1138+2459\n"
   ]
  },
  {
   "cell_type": "code",
   "execution_count": 43,
   "id": "6e393427-63b7-4ce7-a1d8-3ab2a34815a0",
   "metadata": {},
   "outputs": [],
   "source": [
    "total = pd.concat([s1clean,s2clean,s3clean], ignore_index = True)"
   ]
  },
  {
   "cell_type": "code",
   "execution_count": null,
   "id": "3ed0720a-4b23-4de7-8353-00f4046c7dc5",
   "metadata": {},
   "outputs": [],
   "source": []
  },
  {
   "cell_type": "code",
   "execution_count": 46,
   "id": "ba024c23-35ef-4803-ac20-ff81f01c5e4a",
   "metadata": {},
   "outputs": [
    {
     "data": {
      "text/plain": [
       "POS\n",
       "n    2036\n",
       "v     749\n",
       "j     470\n",
       "Name: count, dtype: int64"
      ]
     },
     "execution_count": 46,
     "metadata": {},
     "output_type": "execute_result"
    }
   ],
   "source": [
    "total[(total[\"ranking\"]>= 0) & (total[\"ranking\"]<5000)][\"POS\"].value_counts()"
   ]
  },
  {
   "cell_type": "code",
   "execution_count": 48,
   "id": "69d2a574-98b7-44bf-9b62-38ae2568ed55",
   "metadata": {},
   "outputs": [
    {
     "data": {
      "text/plain": [
       "(100, 6)"
      ]
     },
     "execution_count": 48,
     "metadata": {},
     "output_type": "execute_result"
    }
   ],
   "source": [
    "# now split by ranking \n",
    "total[ ((total[\"ranking\"]>= 0) & (total[\"ranking\"]<500)) & (total['POS']==\"v\")].shape"
   ]
  },
  {
   "cell_type": "code",
   "execution_count": 50,
   "id": "ca913cd2-8e33-4bc7-b1bb-1bd62e097266",
   "metadata": {},
   "outputs": [
    {
     "data": {
      "text/plain": [
       "(111, 6)"
      ]
     },
     "execution_count": 50,
     "metadata": {},
     "output_type": "execute_result"
    }
   ],
   "source": [
    "total[ ((total[\"ranking\"]>= 0) & (total[\"ranking\"]<500)) & (total['POS']==\"n\")].shape"
   ]
  },
  {
   "cell_type": "code",
   "execution_count": 52,
   "id": "f634eecb-5818-401f-8db9-244badaf1fef",
   "metadata": {},
   "outputs": [
    {
     "data": {
      "text/plain": [
       "(0, 6)"
      ]
     },
     "execution_count": 52,
     "metadata": {},
     "output_type": "execute_result"
    }
   ],
   "source": [
    "total[ ((total[\"ranking\"]>= 0) & (total[\"ranking\"]<500)) & (total['POS']==\"fw\")].shape\n"
   ]
  },
  {
   "cell_type": "code",
   "execution_count": 54,
   "id": "5042831c-35cb-4bb0-8ba8-221deb89f2c0",
   "metadata": {},
   "outputs": [],
   "source": [
    "total.to_csv(\"test.csv\")"
   ]
  },
  {
   "cell_type": "code",
   "execution_count": 56,
   "id": "efc90745-d3c5-454e-bc33-4c5d54e16382",
   "metadata": {},
   "outputs": [],
   "source": [
    "total = total.sort_values(by = 'ranking')#\n",
    "total.reset_index(inplace=True, drop=True)"
   ]
  },
  {
   "cell_type": "code",
   "execution_count": 84,
   "id": "2435e2ec-7353-47ef-9529-c8694bbec8bf",
   "metadata": {},
   "outputs": [
    {
     "data": {
      "text/plain": [
       "POS\n",
       "n    2058\n",
       "v     755\n",
       "j     482\n",
       "Name: count, dtype: int64"
      ]
     },
     "execution_count": 84,
     "metadata": {},
     "output_type": "execute_result"
    }
   ],
   "source": [
    "total.tail()\n",
    "total.value_counts(\"POS\")"
   ]
  },
  {
   "cell_type": "code",
   "execution_count": 60,
   "id": "c0e516f7-9ec1-4044-8cc3-6292732ee67d",
   "metadata": {},
   "outputs": [],
   "source": [
    "# bounds = [0,500,1000,1500,2000,2500,3000,3500,4000]\n",
    "# lower = bounds[0]\n",
    "# upper = bounds[1]\n",
    "\n",
    "# POS = [\"v\",\"n\",\"rj\"]\n",
    "\n",
    "# batch = [ total[((total[\"ranking\"]>= lower) & (total[\"ranking\"]<upper)) & (total['POS']== pos)] for pos in POS]\n",
    "# pd.concat(batch).shape\n",
    "# name = f\"{lower}-{higher}\"\n",
    "   \n",
    "# # def setbuilder(lower,upper):\n",
    "# #     [total[ ((total[\"ranking\"]> lower) & (total[\"ranking\"]<upper)) & (total['POS']== pos)].shape for pos in POS"
   ]
  },
  {
   "cell_type": "code",
   "execution_count": 62,
   "id": "d152badb-713e-4674-870a-bb3a3aac153c",
   "metadata": {},
   "outputs": [],
   "source": [
    "# def make_set(start,end,set_name, datasource):\n",
    "#     json_extract = f'\"{set_name}\":{{\\n'\n",
    "#     last_val = ''\n",
    "#     last_entry = ''\n",
    "#     for index, row in datasource[start:end].iterrows():\n",
    "#         # print(last_val)\n",
    "#         try:\n",
    "#             if last_val == row['English']:\n",
    "#                 # print(f\"found a duplicate of {row['English']}\" )\n",
    "#                 # print(last_val, row[\"English\"])\n",
    "#                  # Modify last_entry to include both values\n",
    "#                 json_extract = json_extract.rstrip('\", \\n')  # Remove the trailing comma and space\n",
    "#                 json_extract += f', {row[\"Finnish\"]}\", \\n'  # Add the Finnish value from the duplicate \n",
    "                \n",
    "#                 if index-start < end-start-1:\n",
    "#                     new_entry+= \", \\n\"\n",
    "#                     # remember previous entry for nest round\n",
    "#                     last_val = row['English']\n",
    "#                 else:\n",
    "#                     new_entry+=\"\\n\"\n",
    "#                     # clear memory for next stage start\n",
    "#                     last_val = ''\n",
    "#             else:\n",
    "#                 new_entry = f'''\\t\"{row['English']} ({row['POS1']})\":\"{row['Finnish']}\"'''\n",
    "                \n",
    "#                 if index-start < end-start-1:\n",
    "#                     new_entry+= \", \\n\"\n",
    "#                     # remember previous entry for nest round\n",
    "#                     last_val = row['English']\n",
    "#                 else:\n",
    "#                     new_entry+=\"\\n\"\n",
    "#                     # clear memory for next stage start\n",
    "#                     last_val = ''\n",
    "                    \n",
    "#                 json_extract += new_entry\n",
    "#         except:\n",
    "#             print(\"No data found ... looks like the end of the data\")\n",
    "#     json_extract+=\"\\t}, \\n\"\n",
    "   \n",
    "#     return json_extract"
   ]
  },
  {
   "cell_type": "code",
   "execution_count": 64,
   "id": "9a41943f-32e5-413e-9aa6-0a133d25d6c9",
   "metadata": {},
   "outputs": [],
   "source": [
    "# with open(\"vitalvocab.txt\", \"w\") as j:\n",
    "#     j.write('{\\nword_sets: { \\n')\n",
    "#     for i in range(0,4300,40):\n",
    "#         j.write(make_set(i,i+40,f\"word_set{int(i/40)}\",total))\n",
    "\n",
    "#     j.write('\\n} \\n})"
   ]
  },
  {
   "cell_type": "code",
   "execution_count": 66,
   "id": "a21dd528-5c72-4c28-acdc-939bc7799a31",
   "metadata": {},
   "outputs": [],
   "source": [
    "# total.to_csv(\"./check me.csv\", encoding = \"utf-8-sig\")"
   ]
  },
  {
   "cell_type": "code",
   "execution_count": 86,
   "id": "d833a860-a9b3-4ee3-8b7e-33dec1461bc8",
   "metadata": {},
   "outputs": [],
   "source": [
    "POS_MAP = {\n",
    "    \"V\": \"verb\",\n",
    "    \"N\": \"noun\",\n",
    "    \"J\":\"adjective\"\n",
    "}\n",
    "\n",
    "def make_set(start, end, set_name, datasource):\n",
    "    word_list = []\n",
    "\n",
    "    for index, row in datasource[start:end].iterrows():\n",
    "        try:\n",
    "            pos_mapped = POS_MAP.get(row[\"POS1\"].strip().upper(), \"other\")\n",
    "\n",
    "            word_entry = {\n",
    "                \"word\": row[\"English\"],\n",
    "                \"partOfSpeech\": pos_mapped,\n",
    "                \"translation\": row[\"Finnish\"]\n",
    "            }\n",
    "\n",
    "            # Check for duplicate English words and merge translations\n",
    "            existing = next((item for item in word_list if item[\"word\"] == row[\"English\"]), None)\n",
    "            if existing:\n",
    "                existing[\"translation\"] += f\", {row['Finnish']}\"\n",
    "            else:\n",
    "                word_list.append(word_entry)\n",
    "\n",
    "        except Exception as e:\n",
    "            print(f\"Skipping row at index {index} due to error: {e}\")\n",
    "\n",
    "    return f'\"{set_name}\": {json.dumps(word_list, indent=4, ensure_ascii=False)},\\n'\n",
    "\n",
    "\n",
    "with open(\"vitalvocab.txt\", \"w\", encoding=\"utf-8\") as j:\n",
    "    j.write('{\\nword_sets: { \\n')\n",
    "    for i in range(0,4300,40):\n",
    "        j.write(make_set(i,i+40,f\"word_set{int(i/40)}\",total))\n",
    "\n",
    "    j.write('\\n} \\n}')"
   ]
  },
  {
   "cell_type": "code",
   "execution_count": null,
   "id": "47bbdad0-622a-4ef4-901c-8ff1f2e3b7cb",
   "metadata": {},
   "outputs": [],
   "source": []
  }
 ],
 "metadata": {
  "kernelspec": {
   "display_name": "Python 3 (ipykernel)",
   "language": "python",
   "name": "python3"
  },
  "language_info": {
   "codemirror_mode": {
    "name": "ipython",
    "version": 3
   },
   "file_extension": ".py",
   "mimetype": "text/x-python",
   "name": "python",
   "nbconvert_exporter": "python",
   "pygments_lexer": "ipython3",
   "version": "3.12.4"
  }
 },
 "nbformat": 4,
 "nbformat_minor": 5
}
